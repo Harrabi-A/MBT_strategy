{
 "cells": [
  {
   "cell_type": "code",
   "execution_count": 56,
   "id": "5e8066a1",
   "metadata": {},
   "outputs": [],
   "source": [
    "import pandas as pd\n",
    "import numpy as np\n",
    "\n",
    "from sklearn.model_selection import train_test_split\n",
    "from sklearn.linear_model import LinearRegression\n",
    "from sklearn.metrics import mean_squared_error"
   ]
  },
  {
   "cell_type": "code",
   "execution_count": 57,
   "id": "37b08b6b",
   "metadata": {},
   "outputs": [],
   "source": [
    "#df = pd.read_csv(\"balanced_dataset.csv\")\n",
    "df = pd.read_csv(\"dataset0.csv\")\n",
    "#df = pd.read_csv(\"subset_data.csv\")\n",
    "\n",
    "\n",
    "\n",
    "# encode \"bal\" with 1, \"unbal\" with 0\n",
    "for index, row in df.iterrows():\n",
    "\tif row[\"prior\"] == \"bal\":\n",
    "\t\tdf.loc[index,\"prior\"]=1\n",
    "\telif row[\"prior\"] == \"unbal\":\n",
    "\t\tdf.loc[index,\"prior\"]=0\n"
   ]
  },
  {
   "cell_type": "code",
   "execution_count": 58,
   "id": "79fd7a73",
   "metadata": {},
   "outputs": [],
   "source": [
    "df_freq = df[df['best_strategy'] == 'freq']\n",
    "df_flat = df[df['best_strategy'] == 'flat']\n",
    "df_dist = df[df['best_strategy'] == 'dist']\n",
    "df_hist = df[df['best_strategy'] == 'hist']\n",
    "\n",
    "df_strategies = [df_freq, df_flat, df_dist, df_hist]\n",
    "\n",
    "X_freq = df_freq[[\"states\", \"actions\", \"uncertainty\", \"sparse\", \"tot_tests\", \"prior\"]]\n",
    "X_flat = df_flat[[\"states\", \"actions\", \"uncertainty\", \"sparse\", \"tot_tests\", \"prior\"]]\n",
    "X_dist = df_dist[[\"states\", \"actions\", \"uncertainty\", \"sparse\", \"tot_tests\", \"prior\"]]\n",
    "X_hist = df_hist[[\"states\", \"actions\", \"uncertainty\", \"sparse\", \"tot_tests\", \"prior\"]]\n",
    "\n",
    "y_freq = df_freq[['score']]\n",
    "y_flat = df_flat[['score']]\n",
    "y_dist = df_dist[['score']]\n",
    "y_hist = df_hist[['score']]\n",
    "\n",
    "\n",
    "#Split train and test dataset\n",
    "X_train_freq, X_test_freq, y_train_freq, y_test_freq = train_test_split(X_freq, y_freq, test_size=0.20)\n",
    "X_train_flat, X_test_flat, y_train_flat, y_test_flat = train_test_split(X_flat, y_flat, test_size=0.20)\n",
    "X_train_dist, X_test_dist, y_train_dist, y_test_dist = train_test_split(X_dist, y_dist, test_size=0.20)\n",
    "X_train_hist, X_test_hist, y_train_hist, y_test_hist = train_test_split(X_hist, y_hist, test_size=0.20)\n"
   ]
  },
  {
   "cell_type": "code",
   "execution_count": 70,
   "id": "d515978c",
   "metadata": {},
   "outputs": [
    {
     "name": "stdout",
     "output_type": "stream",
     "text": [
      "0.01622817104338542\n"
     ]
    }
   ],
   "source": [
    "# Frequency Regressor\n",
    "model_freq = LinearRegression()\n",
    "model_freq.fit(X_train_freq, y_train_freq)\n",
    "y_pred_freq = model_freq.predict(X_test_freq)\n",
    "rmse_freq = np.sqrt(mean_squared_error(y_test_freq, y_pred_freq))\n",
    "print(rmse_freq)"
   ]
  },
  {
   "cell_type": "code",
   "execution_count": 71,
   "id": "af282745",
   "metadata": {},
   "outputs": [
    {
     "name": "stdout",
     "output_type": "stream",
     "text": [
      "0.014822572588715987\n"
     ]
    }
   ],
   "source": [
    "# Flat Regressor\n",
    "model_flat = LinearRegression()\n",
    "model_flat.fit(X_train_flat, y_train_flat)\n",
    "y_pred_flat = model_flat.predict(X_test_flat)\n",
    "rmse_flat = np.sqrt(mean_squared_error(y_test_flat, y_pred_flat))\n",
    "print(rmse_flat)"
   ]
  },
  {
   "cell_type": "code",
   "execution_count": 72,
   "id": "660e692c",
   "metadata": {},
   "outputs": [
    {
     "name": "stdout",
     "output_type": "stream",
     "text": [
      "0.01626716676613998\n"
     ]
    }
   ],
   "source": [
    "# Distance Regressor\n",
    "model_dist = LinearRegression()\n",
    "model_dist.fit(X_train_dist, y_train_dist)\n",
    "y_pred_dist = model_dist.predict(X_test_dist)\n",
    "rmse_dist = np.sqrt(mean_squared_error(y_test_dist, y_pred_dist))\n",
    "print(rmse_dist)"
   ]
  },
  {
   "cell_type": "code",
   "execution_count": 73,
   "id": "da2c1cfb",
   "metadata": {},
   "outputs": [
    {
     "name": "stdout",
     "output_type": "stream",
     "text": [
      "0.014537217033900256\n"
     ]
    }
   ],
   "source": [
    "# History Regressor\n",
    "model_hist = LinearRegression()\n",
    "model_hist.fit(X_train_hist, y_train_hist)\n",
    "y_pred_hist = model_hist.predict(X_test_hist)\n",
    "rmse_hist = np.sqrt(mean_squared_error(y_test_hist, y_pred_hist))\n",
    "print(rmse_hist)"
   ]
  },
  {
   "cell_type": "code",
   "execution_count": 74,
   "id": "8289395f",
   "metadata": {},
   "outputs": [
    {
     "name": "stdout",
     "output_type": "stream",
     "text": [
      "0\n",
      "0\n",
      "62\n",
      "62\n",
      "0.01622817104338542\n",
      "\n",
      "\n",
      "0\n",
      "1\n",
      "62\n",
      "62\n",
      "0.013889931639086415\n",
      "\n",
      "\n",
      "0\n",
      "2\n",
      "62\n",
      "62\n",
      "0.017838696226085356\n",
      "\n",
      "\n",
      "0\n",
      "3\n",
      "62\n",
      "62\n",
      "0.022994763811650235\n",
      "\n",
      "\n",
      "1\n",
      "0\n",
      "31\n",
      "31\n",
      "0.021756202482783888\n",
      "\n",
      "\n",
      "1\n",
      "1\n",
      "31\n",
      "31\n",
      "0.014822572588715987\n",
      "\n",
      "\n",
      "1\n",
      "2\n",
      "31\n",
      "31\n",
      "0.02155317171738317\n",
      "\n",
      "\n",
      "1\n",
      "3\n",
      "31\n",
      "31\n",
      "0.033049312443801764\n",
      "\n",
      "\n",
      "2\n",
      "0\n",
      "103\n",
      "103\n",
      "0.01747662233944336\n",
      "\n",
      "\n",
      "2\n",
      "1\n",
      "103\n",
      "103\n",
      "0.014300592492541602\n",
      "\n",
      "\n",
      "2\n",
      "2\n",
      "103\n",
      "103\n",
      "0.01626716676613998\n",
      "\n",
      "\n",
      "2\n",
      "3\n",
      "103\n",
      "103\n",
      "0.019761680955727823\n",
      "\n",
      "\n",
      "3\n",
      "0\n",
      "5\n",
      "5\n",
      "0.022441574283458825\n",
      "\n",
      "\n",
      "3\n",
      "1\n",
      "5\n",
      "5\n",
      "0.018343358951166622\n",
      "\n",
      "\n",
      "3\n",
      "2\n",
      "5\n",
      "5\n",
      "0.019711610902661495\n",
      "\n",
      "\n",
      "3\n",
      "3\n",
      "5\n",
      "5\n",
      "0.014537217033900256\n",
      "\n",
      "\n",
      "          0         1         2         3\n",
      "0  0.016228  0.013890  0.017839  0.022995\n",
      "1  0.021756  0.014823  0.021553  0.033049\n",
      "2  0.017477  0.014301  0.016267  0.019762\n",
      "3  0.022442  0.018343  0.019712  0.014537\n"
     ]
    }
   ],
   "source": [
    "# Evaluation of the consistency of the ordering of rmse between regressors\n",
    "list_y_test = [y_test_freq, y_test_flat, y_test_dist , y_test_hist]\n",
    "#list_y_pred = [y_pred_freq, y_pred_flat, y_pred_dist, y_pred_hist]\n",
    "list_model = [model_freq, model_flat, model_dist, model_hist]\n",
    "list_X_test = [X_test_freq, X_test_flat, X_test_dist, X_test_hist]\n",
    "\n",
    "rmse_matrix = []\n",
    "for i in range(4):\n",
    "    strategy_y_pred = []\n",
    "    for j in range(4):\n",
    "        print(i)\n",
    "        print(j)\n",
    "        print(len(list_model[j].predict(list_X_test[i])))\n",
    "        print(len(list_y_test[i]))\n",
    "        tmp_prediction = list_model[i].predict(list_X_test[j])\n",
    "        tmp_rmse = np.sqrt(mean_squared_error(tmp_prediction, list_y_test[j]))\n",
    "        print(tmp_rmse)\n",
    "        print(\"\\n\")\n",
    "        strategy_y_pred.append(tmp_rmse)\n",
    "    rmse_matrix.append(strategy_y_pred)\n",
    "\n",
    "# Convert the matrix to a DataFrame\n",
    "df_rmse_matrix = pd.DataFrame(rmse_matrix)\n",
    "\n",
    "print(df_rmse_matrix)"
   ]
  },
  {
   "cell_type": "code",
   "execution_count": null,
   "id": "5a70fd09",
   "metadata": {},
   "outputs": [],
   "source": []
  }
 ],
 "metadata": {
  "kernelspec": {
   "display_name": "Python 3 (ipykernel)",
   "language": "python",
   "name": "python3"
  },
  "language_info": {
   "codemirror_mode": {
    "name": "ipython",
    "version": 3
   },
   "file_extension": ".py",
   "mimetype": "text/x-python",
   "name": "python",
   "nbconvert_exporter": "python",
   "pygments_lexer": "ipython3",
   "version": "3.9.13"
  }
 },
 "nbformat": 4,
 "nbformat_minor": 5
}
