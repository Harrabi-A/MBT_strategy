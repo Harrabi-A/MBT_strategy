{
 "cells": [
  {
   "cell_type": "code",
   "execution_count": 16,
   "id": "f168e60b",
   "metadata": {},
   "outputs": [],
   "source": [
    "import numpy as np\n",
    "import pandas as pd\n",
    "import seaborn as sb\n",
    "import matplotlib.pyplot as plt\n",
    "from sklearn.model_selection import train_test_split, GridSearchCV"
   ]
  },
  {
   "cell_type": "code",
   "execution_count": 18,
   "id": "e2a6df38",
   "metadata": {},
   "outputs": [],
   "source": [
    "#df = pd.read_csv(\"balanced_dataset.csv\")\n",
    "df = pd.read_csv(\"dataset0.csv\")\n",
    "#df = pd.read_csv(\"subset_data.csv\")\n",
    "\n",
    "\n",
    "\n",
    "# encode \"bal\" with 1, \"unbal\" with 0\n",
    "for index, row in df.iterrows():\n",
    "\tif row[\"prior\"] == \"bal\":\n",
    "\t\tdf.loc[index,\"prior\"]=1\n",
    "\telif row[\"prior\"] == \"unbal\":\n",
    "\t\tdf.loc[index,\"prior\"]=0\n",
    "\n",
    "\n",
    "\n",
    "X = df[[\"states\", \"actions\", \"uncertainty\", \"sparse\", \"tot_tests\", \"prior\"]]\n",
    "#y = df[[\"dist\",\"flat\",\"freq\",\"hist\"]]\n",
    "# = df[[\"best_strategy\"]]\n",
    "y = pd.get_dummies(df['best_strategy'])\n",
    "\n",
    "\n",
    "#Split train and test dataset\n",
    "X_train, X_test, y_train, y_test = train_test_split(X, y, test_size=0.20, stratify= y)"
   ]
  },
  {
   "cell_type": "code",
   "execution_count": 19,
   "id": "4cdb2bed",
   "metadata": {},
   "outputs": [
    {
     "name": "stdout",
     "output_type": "stream",
     "text": [
      "Best Model Accuracy: 0.5678391959798995\n",
      "Best Parameters: {'max_depth': 20, 'min_samples_leaf': 1, 'min_samples_split': 2, 'n_estimators': 150}\n"
     ]
    }
   ],
   "source": [
    "from sklearn.ensemble import RandomForestClassifier\n",
    "from sklearn.metrics import accuracy_score\n",
    "\n",
    "# Create a Random Forest model\n",
    "model = RandomForestClassifier(random_state=42)\n",
    "\n",
    "# Define hyperparameters to tune\n",
    "param_grid = {\n",
    "    'n_estimators': [50, 100, 150],    # Number of trees in the forest\n",
    "    'max_depth': [None, 10, 20],       # Maximum depth of each tree\n",
    "    'min_samples_split': [2, 5, 10],   # Minimum number of samples required to split an internal node\n",
    "    'min_samples_leaf': [1, 2, 4]      # Minimum number of samples required to be at a leaf node\n",
    "}\n",
    "\n",
    "# Create GridSearchCV with 5-fold cross-validation\n",
    "grid_search = GridSearchCV(model, param_grid, cv=5, scoring='accuracy')\n",
    "\n",
    "# Fit the model to the training data\n",
    "grid_search.fit(X_train, y_train)\n",
    "\n",
    "# Get the best model with tuned hyperparameters\n",
    "best_model = grid_search.best_estimator_\n",
    "\n",
    "# Make predictions on the test set using the best model\n",
    "y_pred = best_model.predict(X_test)\n",
    "\n",
    "# Calculate the accuracy\n",
    "accuracy = accuracy_score(y_test, y_pred)\n",
    "print(\"Best Model Accuracy:\", accuracy)\n",
    "print(\"Best Parameters:\", grid_search.best_params_)"
   ]
  },
  {
   "cell_type": "code",
   "execution_count": null,
   "id": "c460db67",
   "metadata": {},
   "outputs": [],
   "source": []
  },
  {
   "cell_type": "code",
   "execution_count": null,
   "id": "ea4d4e9b",
   "metadata": {},
   "outputs": [],
   "source": []
  }
 ],
 "metadata": {
  "kernelspec": {
   "display_name": "Python 3 (ipykernel)",
   "language": "python",
   "name": "python3"
  },
  "language_info": {
   "codemirror_mode": {
    "name": "ipython",
    "version": 3
   },
   "file_extension": ".py",
   "mimetype": "text/x-python",
   "name": "python",
   "nbconvert_exporter": "python",
   "pygments_lexer": "ipython3",
   "version": "3.9.13"
  }
 },
 "nbformat": 4,
 "nbformat_minor": 5
}
