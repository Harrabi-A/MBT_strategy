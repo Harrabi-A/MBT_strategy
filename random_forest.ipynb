{
 "cells": [
  {
   "cell_type": "code",
   "execution_count": 22,
   "id": "7100e574",
   "metadata": {},
   "outputs": [],
   "source": [
    "import numpy as np\n",
    "import pandas as pd\n",
    "\n",
    "#Import Train and Test dataset\n",
    "train_df = pd.read_csv(\"balanced_train_set.csv\")\n",
    "test_df = pd.read_csv(\"balanced_test_set.csv\")\n",
    "\n",
    "one_hot_encoded = pd.get_dummies(train_df['best_strategy'])\n",
    "train_df = pd.concat([train_df, one_hot_encoded], axis=1)\n",
    "one_hot_encoded = pd.get_dummies(test_df['best_strategy'])\n",
    "test_df = pd.concat([test_df, one_hot_encoded], axis=1)\n",
    "\n",
    "#Select Feature (\"states\", \"actions\", \"uncertainty\", \"sparse\", \"tot_tests\", \"prior\", \"score\") and Target\n",
    "X = train_df[[\"states\", \"actions\", \"uncertainty\", \"sparse\", \"tot_tests\", \"prior\"]]\n",
    "y = train_df[[\"dist\",\"flat\",\"freq\",\"hist\"]]\n",
    "X_test = test_df[[\"states\", \"actions\", \"uncertainty\", \"sparse\", \"tot_tests\", \"prior\"]]\n",
    "y_test = test_df[[\"dist\",\"flat\",\"freq\",\"hist\"]]\n",
    "\n",
    "\n",
    "\n",
    "#[Testing] print Train and Test dataset\n",
    "#print(train_df)\n",
    "#print(test_df)\n"
   ]
  },
  {
   "cell_type": "code",
   "execution_count": 23,
   "id": "7cc9d349",
   "metadata": {},
   "outputs": [
    {
     "data": {
      "text/plain": [
       "RandomForestClassifier(criterion='entropy', n_estimators=500, random_state=42)"
      ]
     },
     "execution_count": 23,
     "metadata": {},
     "output_type": "execute_result"
    }
   ],
   "source": [
    "from sklearn.ensemble import RandomForestClassifier\n",
    "\n",
    "# Fitting Random Forest Classification to the Training set\n",
    "classifier = RandomForestClassifier(n_estimators = 500, criterion = 'entropy', random_state = 42)\n",
    "classifier.fit(X, y)"
   ]
  },
  {
   "cell_type": "code",
   "execution_count": 24,
   "id": "8a7f51e5",
   "metadata": {},
   "outputs": [
    {
     "name": "stdout",
     "output_type": "stream",
     "text": [
      "0.5945945945945946\n"
     ]
    }
   ],
   "source": [
    "from sklearn.metrics import accuracy_score\n",
    "\n",
    "# Predicting the Test set results\n",
    "y_pred = classifier.predict(X_test)\n",
    "print(accuracy_score(y_test, y_pred))\n"
   ]
  },
  {
   "cell_type": "code",
   "execution_count": null,
   "id": "63dc75d4",
   "metadata": {},
   "outputs": [],
   "source": []
  },
  {
   "cell_type": "code",
   "execution_count": null,
   "id": "3619bc78",
   "metadata": {},
   "outputs": [],
   "source": []
  }
 ],
 "metadata": {
  "kernelspec": {
   "display_name": "Python 3 (ipykernel)",
   "language": "python",
   "name": "python3"
  },
  "language_info": {
   "codemirror_mode": {
    "name": "ipython",
    "version": 3
   },
   "file_extension": ".py",
   "mimetype": "text/x-python",
   "name": "python",
   "nbconvert_exporter": "python",
   "pygments_lexer": "ipython3",
   "version": "3.9.13"
  }
 },
 "nbformat": 4,
 "nbformat_minor": 5
}
