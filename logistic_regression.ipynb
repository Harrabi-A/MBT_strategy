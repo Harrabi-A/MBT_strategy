{
 "cells": [
  {
   "cell_type": "code",
   "execution_count": 67,
   "id": "574a6ebe",
   "metadata": {},
   "outputs": [],
   "source": [
    "import numpy as np\n",
    "import pandas as pd\n",
    "\n",
    "#Import Train and Test dataset\n",
    "train_df = pd.read_csv(\"balanced_train_set.csv\")\n",
    "test_df = pd.read_csv(\"balanced_test_set.csv\")\n",
    "\n",
    "#Select Feature and Target\n",
    "X = train_df[[\"states\", \"actions\", \"uncertainty\", \"sparse\", \"tot_tests\", \"prior\", \"score\"]]\n",
    "y = train_df[[\"best_strategy\"]]\n",
    "X_test = test_df[[\"states\", \"actions\", \"uncertainty\", \"sparse\", \"tot_tests\", \"prior\", \"score\"]]\n",
    "y_test = test_df[[\"best_strategy\"]]\n",
    "\n",
    "#[Testing] print Train and Test dataset\n",
    "#print(train_df)\n",
    "#print(test_df)\n"
   ]
  },
  {
   "cell_type": "code",
   "execution_count": 68,
   "id": "e6e9fcf7",
   "metadata": {},
   "outputs": [
    {
     "name": "stdout",
     "output_type": "stream",
     "text": [
      "[[8 0 1 0]\n",
      " [2 7 0 0]\n",
      " [1 3 3 2]\n",
      " [1 6 0 3]]\n",
      "Accuracy score:  0.5675675675675675\n"
     ]
    }
   ],
   "source": [
    "#Training data with a multinomial logistic regression model\n",
    "\n",
    "from sklearn.linear_model import LogisticRegression\n",
    "from sklearn.metrics import confusion_matrix\n",
    "\n",
    "m1 = LogisticRegression(multi_class='multinomial', solver='lbfgs', max_iter=10000).fit(X,y.values.ravel())\n",
    "y_pred = m1.predict(X_test)\n",
    "cm1 = confusion_matrix(y_test, y_pred, labels=[\"hist\",\"flat\",\"dist\",\"freq\"])\n",
    "print(cm1)\n",
    "print(\"Accuracy score: \", m1.score(X_test, y_test))"
   ]
  },
  {
   "cell_type": "code",
   "execution_count": 69,
   "id": "8460edda",
   "metadata": {},
   "outputs": [
    {
     "name": "stdout",
     "output_type": "stream",
     "text": [
      "0.5675675675675675\n"
     ]
    }
   ],
   "source": [
    "from sklearn.metrics import accuracy_score\n",
    "\n",
    "print(accuracy_score(y_test, y_pred))"
   ]
  },
  {
   "cell_type": "code",
   "execution_count": null,
   "id": "25775268",
   "metadata": {},
   "outputs": [],
   "source": []
  },
  {
   "cell_type": "code",
   "execution_count": null,
   "id": "b67380c4",
   "metadata": {},
   "outputs": [],
   "source": []
  }
 ],
 "metadata": {
  "kernelspec": {
   "display_name": "Python 3 (ipykernel)",
   "language": "python",
   "name": "python3"
  },
  "language_info": {
   "codemirror_mode": {
    "name": "ipython",
    "version": 3
   },
   "file_extension": ".py",
   "mimetype": "text/x-python",
   "name": "python",
   "nbconvert_exporter": "python",
   "pygments_lexer": "ipython3",
   "version": "3.9.13"
  }
 },
 "nbformat": 4,
 "nbformat_minor": 5
}
