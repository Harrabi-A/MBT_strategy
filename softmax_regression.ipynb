{
 "cells": [
  {
   "cell_type": "code",
   "execution_count": 1,
   "id": "025d8a35",
   "metadata": {},
   "outputs": [],
   "source": [
    "import numpy as np\n",
    "import pandas as pd\n",
    "import seaborn as sb\n",
    "import matplotlib.pyplot as plt"
   ]
  },
  {
   "cell_type": "code",
   "execution_count": 26,
   "id": "362eb77e",
   "metadata": {},
   "outputs": [],
   "source": [
    "#df = pd.read_csv(\"balanced_dataset.csv\")\n",
    "df = pd.read_csv(\"dataset0.csv\")\n",
    "#df = pd.read_csv(\"subset_data.csv\")"
   ]
  },
  {
   "cell_type": "code",
   "execution_count": 27,
   "id": "f027cb51",
   "metadata": {},
   "outputs": [],
   "source": [
    "from sklearn.model_selection import train_test_split\n",
    "\n",
    "# encode \"bal\" with 1, \"unbal\" with 0\n",
    "for index, row in df.iterrows():\n",
    "\tif row[\"prior\"] == \"bal\":\n",
    "\t\tdf.loc[index,\"prior\"]=1\n",
    "\telif row[\"prior\"] == \"unbal\":\n",
    "\t\tdf.loc[index,\"prior\"]=0\n",
    "\n",
    "\n",
    "\n",
    "X = df[[\"states\", \"actions\", \"uncertainty\", \"sparse\", \"tot_tests\", \"prior\"]]\n",
    "#y = df[[\"dist\",\"flat\",\"freq\",\"hist\"]]\n",
    "y = df[[\"best_strategy\"]]\n",
    "#y = pd.get_dummies(df['best_strategy'])\n",
    "\n",
    "\n",
    "#Split train and test dataset\n",
    "X_train, X_test, y_train, y_test = train_test_split(X, y, test_size=0.20, stratify= y)\n"
   ]
  },
  {
   "cell_type": "code",
   "execution_count": 28,
   "id": "c3b4c45a",
   "metadata": {},
   "outputs": [
    {
     "name": "stdout",
     "output_type": "stream",
     "text": [
      "    best_strategy\n",
      "0            dist\n",
      "1            dist\n",
      "2            dist\n",
      "3            dist\n",
      "4            dist\n",
      "..            ...\n",
      "990          flat\n",
      "991          freq\n",
      "992          dist\n",
      "993          dist\n",
      "994          freq\n",
      "\n",
      "[995 rows x 1 columns]\n",
      "[[ 0  1  4  0]\n",
      " [ 0 12 12  6]\n",
      " [ 0 12 83  8]\n",
      " [ 0 11 46  4]]\n",
      "Accuracy score:  0.49748743718592964\n"
     ]
    },
    {
     "name": "stderr",
     "output_type": "stream",
     "text": [
      "/Users/ahmedharrabi/opt/anaconda3/lib/python3.9/site-packages/sklearn/utils/validation.py:993: DataConversionWarning: A column-vector y was passed when a 1d array was expected. Please change the shape of y to (n_samples, ), for example using ravel().\n",
      "  y = column_or_1d(y, warn=True)\n",
      "/Users/ahmedharrabi/opt/anaconda3/lib/python3.9/site-packages/sklearn/linear_model/_logistic.py:814: ConvergenceWarning: lbfgs failed to converge (status=1):\n",
      "STOP: TOTAL NO. of ITERATIONS REACHED LIMIT.\n",
      "\n",
      "Increase the number of iterations (max_iter) or scale the data as shown in:\n",
      "    https://scikit-learn.org/stable/modules/preprocessing.html\n",
      "Please also refer to the documentation for alternative solver options:\n",
      "    https://scikit-learn.org/stable/modules/linear_model.html#logistic-regression\n",
      "  n_iter_i = _check_optimize_result(\n"
     ]
    }
   ],
   "source": [
    "from sklearn.linear_model import LogisticRegression\n",
    "from sklearn.metrics import confusion_matrix\n",
    "\n",
    "model = LogisticRegression(multi_class='multinomial', solver='lbfgs', max_iter=100)\n",
    "print(y)\n",
    "model.fit(X_train, y_train)\n",
    "\n",
    "\n",
    "y_pred = model.predict(X_test)\n",
    "cm1 = confusion_matrix(y_test, y_pred, labels=[\"hist\",\"flat\",\"dist\",\"freq\"])\n",
    "print(cm1)\n",
    "print(\"Accuracy score: \", model.score(X_test, y_test))"
   ]
  },
  {
   "cell_type": "code",
   "execution_count": null,
   "id": "23c0f60e",
   "metadata": {},
   "outputs": [],
   "source": []
  },
  {
   "cell_type": "code",
   "execution_count": null,
   "id": "5d733a0f",
   "metadata": {},
   "outputs": [],
   "source": []
  }
 ],
 "metadata": {
  "kernelspec": {
   "display_name": "Python 3 (ipykernel)",
   "language": "python",
   "name": "python3"
  },
  "language_info": {
   "codemirror_mode": {
    "name": "ipython",
    "version": 3
   },
   "file_extension": ".py",
   "mimetype": "text/x-python",
   "name": "python",
   "nbconvert_exporter": "python",
   "pygments_lexer": "ipython3",
   "version": "3.9.13"
  }
 },
 "nbformat": 4,
 "nbformat_minor": 5
}
