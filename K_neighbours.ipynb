{
 "cells": [
  {
   "cell_type": "code",
   "execution_count": 26,
   "id": "66cb3034",
   "metadata": {},
   "outputs": [],
   "source": [
    "import numpy as np\n",
    "import pandas as pd\n",
    "\n",
    "#Import Train and Test dataset\n",
    "train_df = pd.read_csv(\"balanced_train_set.csv\")\n",
    "test_df = pd.read_csv(\"balanced_test_set.csv\")\n",
    "\n",
    "one_hot_encoded = pd.get_dummies(train_df['best_strategy'])\n",
    "train_df = pd.concat([train_df, one_hot_encoded], axis=1)\n",
    "one_hot_encoded = pd.get_dummies(test_df['best_strategy'])\n",
    "test_df = pd.concat([test_df, one_hot_encoded], axis=1)\n",
    "\n",
    "#Select Feature (\"states\", \"actions\", \"uncertainty\", \"sparse\", \"tot_tests\", \"prior\", \"score\") and Target\n",
    "X = train_df[[\"states\", \"actions\", \"uncertainty\", \"sparse\", \"tot_tests\", \"prior\"]]\n",
    "y = train_df[[\"dist\",\"flat\",\"freq\",\"hist\"]]\n",
    "X_test = test_df[[\"states\", \"actions\", \"uncertainty\", \"sparse\", \"tot_tests\", \"prior\"]]\n",
    "y_test = test_df[[\"dist\",\"flat\",\"freq\",\"hist\"]]\n",
    "\n",
    "\n",
    "\n",
    "#[Testing] print Train and Test dataset\n",
    "#print(train_df)\n",
    "#print(test_df)\n"
   ]
  },
  {
   "cell_type": "code",
   "execution_count": 27,
   "id": "b8d48893",
   "metadata": {},
   "outputs": [
    {
     "name": "stderr",
     "output_type": "stream",
     "text": [
      "/Users/ahmedharrabi/opt/anaconda3/lib/python3.9/site-packages/sklearn/neighbors/_classification.py:228: FutureWarning: Unlike other reduction functions (e.g. `skew`, `kurtosis`), the default behavior of `mode` typically preserves the axis it acts along. In SciPy 1.11.0, this behavior will change: the default value of `keepdims` will become False, the `axis` over which the statistic is taken will be eliminated, and the value None will no longer be accepted. Set `keepdims` to True or False to avoid this warning.\n",
      "  mode, _ = stats.mode(_y[neigh_ind, k], axis=1)\n"
     ]
    }
   ],
   "source": [
    "from sklearn.neighbors import KNeighborsClassifier\n",
    "knn = KNeighborsClassifier(n_neighbors=5)\n",
    "knn.fit(X, y)\n",
    "y_pred = knn.predict(X_test)"
   ]
  },
  {
   "cell_type": "code",
   "execution_count": 28,
   "id": "27186c18",
   "metadata": {},
   "outputs": [
    {
     "name": "stdout",
     "output_type": "stream",
     "text": [
      "0.2972972972972973\n"
     ]
    },
    {
     "name": "stderr",
     "output_type": "stream",
     "text": [
      "/Users/ahmedharrabi/opt/anaconda3/lib/python3.9/site-packages/sklearn/neighbors/_classification.py:228: FutureWarning: Unlike other reduction functions (e.g. `skew`, `kurtosis`), the default behavior of `mode` typically preserves the axis it acts along. In SciPy 1.11.0, this behavior will change: the default value of `keepdims` will become False, the `axis` over which the statistic is taken will be eliminated, and the value None will no longer be accepted. Set `keepdims` to True or False to avoid this warning.\n",
      "  mode, _ = stats.mode(_y[neigh_ind, k], axis=1)\n"
     ]
    }
   ],
   "source": [
    "from sklearn.metrics import accuracy_score\n",
    "\n",
    "# Predicting the Test set results\n",
    "y_pred = knn.predict(X_test)\n",
    "print(accuracy_score(y_test, y_pred))\n"
   ]
  },
  {
   "cell_type": "code",
   "execution_count": null,
   "id": "b7c34521",
   "metadata": {},
   "outputs": [],
   "source": []
  },
  {
   "cell_type": "code",
   "execution_count": null,
   "id": "78f27c3d",
   "metadata": {},
   "outputs": [],
   "source": []
  }
 ],
 "metadata": {
  "kernelspec": {
   "display_name": "Python 3 (ipykernel)",
   "language": "python",
   "name": "python3"
  },
  "language_info": {
   "codemirror_mode": {
    "name": "ipython",
    "version": 3
   },
   "file_extension": ".py",
   "mimetype": "text/x-python",
   "name": "python",
   "nbconvert_exporter": "python",
   "pygments_lexer": "ipython3",
   "version": "3.9.13"
  }
 },
 "nbformat": 4,
 "nbformat_minor": 5
}
